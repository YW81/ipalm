{
 "cells": [
  {
   "cell_type": "code",
   "execution_count": 1,
   "metadata": {
    "collapsed": true
   },
   "outputs": [],
   "source": [
    "import numpy as np\n",
    "from ipalm import *\n",
    "import matplotlib.pyplot as plt"
   ]
  },
  {
   "cell_type": "code",
   "execution_count": 2,
   "metadata": {
    "collapsed": true
   },
   "outputs": [],
   "source": [
    "##### solve sparse PCA as test\n",
    "\n",
    "### generate toy matrix to factorize\n",
    "\n",
    "M=33 #dimensions\n",
    "N=25 #dimensions\n",
    "r=6 #rank of matrix\n",
    "\n",
    "\n",
    "#subscript of 't' denotes true parameter used to generate toy data\n",
    "\n",
    "p_sparse=0.05\n",
    "\n",
    "#let's make these things sparse\n",
    "sp_mask_t=np.random.binomial(1,p_sparse,size=[M, r])\n",
    "\n",
    "U_t=np.random.normal(size=[M, r])\n",
    "V_t=np.random.normal(size=[r, N])\n",
    "\n",
    "\n",
    "\n",
    "U_t=U_t/np.linalg.norm(U_t,axis=0)\n",
    "V_t=V_t/np.expand_dims(np.linalg.norm(V_t,axis=1),axis=1)\n",
    "\n",
    "s_t=np.random.uniform(size=[r,])\n",
    "s_t=sorted(s_t)\n",
    "\n",
    "S_t=np.zeros(shape=[r, r])\n",
    "for i in range(r):\n",
    "            S_t[i,i]=s_t[i]\n",
    "\n",
    "\n",
    "P_t=np.dot(np.dot(U_t,S_t),V_t)\n",
    "\n",
    "\n",
    "plt.figure()\n",
    "plt.imshow(P_t, interpolation='none')\n",
    "\n",
    "\n",
    "plt.show()\n"
   ]
  },
  {
   "cell_type": "code",
   "execution_count": 3,
   "metadata": {
    "collapsed": true
   },
   "outputs": [],
   "source": [
    "### the iPALM algorithm\n",
    "### no backtracking\n",
    "\n",
    "### this specific problem\n",
    "# solve 1/2*|| Y-Xa*Xb ||_F^2 + lam*||xa||_1 + lam/2*||xb||_2^2\n",
    "\n",
    "\n",
    "### inputs\n",
    "\n",
    "#inits\n",
    "xa0=np.random.normal(size=[M*r,])\n",
    "xb0=np.random.normal(size=[r*N,])\n",
    "\n",
    "#functions\n",
    "grad_a=lambda xs, opts: \\\n",
    "np.reshape(np.dot(opts['Y']-np.dot(np.reshape(xs[0], newshape=[opts['M'], opts['r']]),\\\n",
    "                                   np.reshape(xs[1], newshape=[opts['r'], opts['N']])),\\\n",
    "                  -np.reshape(xs[1], newshape=[opts['r'], opts['N']]).T),\\\n",
    "           [opts['M']*opts['r'],])\n",
    "\n",
    "grad_b=lambda xs, opts: \\\n",
    "np.reshape(np.dot(-np.reshape(xs[0], newshape=[opts['M'], opts['r']]).T,\\\n",
    "                  opts['Y']-np.dot(np.reshape(xs[0], newshape=[opts['M'], opts['r']]),\\\n",
    "                                   np.reshape(xs[1], newshape=[opts['r'], opts['N']]))),\\\n",
    "           [opts['r']*opts['N'],])\n",
    "\n",
    "prox_a=lambda v, t, opts: \\\n",
    "np.sign(v)*np.maximum(0.0, np.abs(v)-opts['lam']/t)\n",
    "\n",
    "prox_b=lambda v, t, opts: \\\n",
    "v/(1.0+opts['lam']/t)\n",
    "\n",
    "#optimization params\n",
    "tau=0.01 #step size\n",
    "nit=1e3 #max iterations before termination\n",
    "tol=1e-4 #error threshold for termination\n",
    "\n",
    "opts={}\n",
    "opts['lam']=0.0001;\n",
    "opts['r']=r\n",
    "opts['M']=M\n",
    "opts['N']=N\n",
    "opts['Y']=P_t\n",
    "\n",
    "opts['tau']=tau\n",
    "opts['nit']=nit\n",
    "opts['tol']=tol\n",
    "\n",
    "grads=[grad_a, grad_b]\n",
    "proxs=[prox_a, prox_b]\n",
    "\n",
    "lip_a = lambda xs, opts: np.linalg.norm(xs[1])**2\n",
    "lip_b = lambda xs, opts: np.linalg.norm(xs[0])**2\n",
    "\n",
    "lips=[lip_a, lip_b]\n",
    "opts['lips']=lips\n",
    "xs2 = ipalm(grads, proxs, [M*r, r*N], opts)\n",
    "[xa2, xb2] = xs2\n",
    "\n",
    "\n",
    "P_h=np.dot(np.reshape(xa2,[M,r]),np.reshape(xb2,[r,N]))"
   ]
  },
  {
   "cell_type": "code",
   "execution_count": 4,
   "metadata": {},
   "outputs": [
    {
     "name": "stderr",
     "output_type": "stream",
     "text": [
      "/usr/lib/pymodules/python2.7/matplotlib/collections.py:548: FutureWarning: elementwise comparison failed; returning scalar instead, but in the future will perform elementwise comparison\n",
      "  if self._edgecolors == 'face':\n"
     ]
    }
   ],
   "source": [
    "cmi=np.min([P_t,P_h])\n",
    "cma=np.max([P_t,P_h])\n",
    "\n",
    "plt.figure()\n",
    "plt.imshow(P_h,interpolation='none')\n",
    "plt.clim(cmi,cma)\n",
    "plt.colorbar()\n",
    "\n",
    "plt.figure()\n",
    "plt.imshow(P_t,interpolation='none')\n",
    "plt.clim(cmi,cma)\n",
    "plt.colorbar()\n",
    "\n",
    "plt.figure()\n",
    "plt.imshow(P_t-P_h,interpolation='none')\n",
    "plt.clim(cmi,cma)\n",
    "plt.colorbar()\n",
    "\n",
    "plt.show()\n"
   ]
  }
 ],
 "metadata": {
  "kernelspec": {
   "display_name": "Python 2",
   "language": "python",
   "name": "python2"
  },
  "language_info": {
   "codemirror_mode": {
    "name": "ipython",
    "version": 2
   },
   "file_extension": ".py",
   "mimetype": "text/x-python",
   "name": "python",
   "nbconvert_exporter": "python",
   "pygments_lexer": "ipython2",
   "version": "2.7.6"
  }
 },
 "nbformat": 4,
 "nbformat_minor": 2
}
